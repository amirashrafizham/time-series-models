{
 "cells": [
  {
   "cell_type": "markdown",
   "id": "44de62a1",
   "metadata": {},
   "source": [
    "# Partial Autocorrelation\n",
    "\n"
   ]
  },
  {
   "cell_type": "markdown",
   "id": "53fd97cc",
   "metadata": {},
   "source": [
    "## What is Partial Autocorrelation?\n"
   ]
  },
  {
   "cell_type": "markdown",
   "id": "7a1f2981",
   "metadata": {},
   "source": [
    "We can begin by explaining partial correlation. This is the correlation between two random variables whilst controlling the effect of another (orm more) random variable that affects the original variables we are correlating.\n",
    "\n",
    "Lets say we have three random variables of X, Y and Z. The partial correlation between X and Y, excluding the effects of Z, is mathematically:"
   ]
  },
  {
   "cell_type": "markdown",
   "id": "5a607f38",
   "metadata": {},
   "source": [
    "$$\n",
    "r_{(X,Y),Z} = \n",
    "\\frac{r_{XY} - r_{XZ} r_{YZ}}\n",
    "{\\sqrt{(1 - r_{XZ}^2)(1 - r_{YZ}^2)}}\n",
    "$$"
   ]
  },
  {
   "cell_type": "markdown",
   "id": "6c596ec3",
   "metadata": {},
   "source": [
    "Where r is the correlation coefficient that ranges between -1 and 1.\n",
    "\n",
    "Partial autocorrelation is then simply just the partial correlation of a time series at two different states in time. Taking it one step further, it is the correlation between the time series at two different lags not considering the effect of any intermediate lags. For example, the partial autocorrelation for a lag of 2 is only the correlation that lag 1 didn’t explain."
   ]
  },
  {
   "cell_type": "markdown",
   "id": "1c88cde9",
   "metadata": {},
   "source": [
    "## Why is it Useful?\n"
   ]
  },
  {
   "cell_type": "markdown",
   "id": "e0fd3550",
   "metadata": {},
   "source": [
    "Unlike autocorrelation, partial autocorrelation hasn’t got as my uses for time series analysis. However, its main and very important impact comes in when building forecasting models.\n",
    "\n",
    "The PACF is used to estimate the number/order of autoregressive components when fitting Autoregressive, ARMA or ARIMA models as defined by the Box-Jenkins procedure. These models are probably the most used and often provide the best results when training a forecasting model."
   ]
  },
  {
   "cell_type": "markdown",
   "id": "a683b945",
   "metadata": {},
   "source": [
    "## Python Example"
   ]
  },
  {
   "cell_type": "code",
   "execution_count": null,
   "id": "e2fefa53",
   "metadata": {},
   "outputs": [],
   "source": [
    "# Import packaged\n",
    "import plotly.express as px\n",
    "import pandas as pd\n",
    "from statsmodels.graphics.tsaplots import plot_pacf\n",
    "import matplotlib.pyplot as plt"
   ]
  },
  {
   "cell_type": "code",
   "execution_count": null,
   "id": "de1a9006",
   "metadata": {},
   "outputs": [],
   "source": [
    "# Read in the data\n",
    "data = pd.read_csv('AirPassengers.csv', index_col=0)\n",
    "data.index = pd.to_datetime(data.index)\n",
    "\n",
    "# Plot the data\n",
    "fig = px.line(data, x=data.index, y='#Passengers',\n",
    "              labels=({'#Passengers': 'Passengers', 'Month': 'Date'}))\n",
    "\n",
    "fig.update_layout(template=\"simple_white\", font=dict(size=18),\n",
    "                  title_text='Airline Passengers', width=650, title_x=0.5, height=400)\n",
    "\n",
    "fig.show()"
   ]
  },
  {
   "cell_type": "code",
   "execution_count": null,
   "id": "01314318",
   "metadata": {},
   "outputs": [],
   "source": [
    "# Plot partial autocorrelation\n",
    "plt.rc(\"figure\", figsize=(11,5))\n",
    "plot_pacf(data['#Passengers'], method='ywm')\n",
    "plt.xlabel('Lags', fontsize=18)\n",
    "plt.ylabel('Correlation', fontsize=18)\n",
    "plt.xticks(fontsize=18)\n",
    "plt.yticks(fontsize=18)\n",
    "plt.title('Partial Autocorrelation Plot', fontsize=20)\n",
    "plt.tight_layout()\n",
    "plt.show()"
   ]
  },
  {
   "cell_type": "markdown",
   "id": "1b4fafab",
   "metadata": {},
   "source": [
    "We see that lag 1 is highly correlated and there are other highly correlated lags later in time which are probably due to seasonal affects.\n",
    "\n",
    "However, from this plot it is quite unclear how many autoregressors we would choose if we were building a forecasting model. Therefore, it is often recommended to simply carry out a grid-search over the possible parameters using modelling packages such as auto arima.\n"
   ]
  },
  {
   "cell_type": "markdown",
   "id": "6d42179d",
   "metadata": {},
   "source": [
    "The blue region is where lags are no longer statistically significant. We typically choose the number autoregressors by seeing how many of them are above the blue region."
   ]
  }
 ],
 "metadata": {
  "kernelspec": {
   "display_name": "Python 3 (ipykernel)",
   "language": "python",
   "name": "python3"
  },
  "language_info": {
   "codemirror_mode": {
    "name": "ipython",
    "version": 3
   },
   "file_extension": ".py",
   "mimetype": "text/x-python",
   "name": "python",
   "nbconvert_exporter": "python",
   "pygments_lexer": "ipython3",
   "version": "3.9.12"
  }
 },
 "nbformat": 4,
 "nbformat_minor": 5
}
